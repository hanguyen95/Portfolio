{
 "cells": [
  {
   "cell_type": "markdown",
   "id": "f8dbab3e",
   "metadata": {},
   "source": [
    "# 1. IMPORT LIBRARY"
   ]
  },
  {
   "cell_type": "code",
   "execution_count": 1,
   "id": "9d48b549",
   "metadata": {},
   "outputs": [
    {
     "name": "stderr",
     "output_type": "stream",
     "text": [
      "C:\\ProgramData\\Anaconda3\\lib\\site-packages\\scipy\\__init__.py:146: UserWarning: A NumPy version >=1.16.5 and <1.23.0 is required for this version of SciPy (detected version 1.23.2\n",
      "  warnings.warn(f\"A NumPy version >={np_minversion} and <{np_maxversion}\"\n"
     ]
    }
   ],
   "source": [
    "import numpy as np\n",
    "import pandas as pd\n",
    "import scipy.stats as stats\n",
    "import statsmodels.stats.api as sms\n",
    "import matplotlib as mpl\n",
    "import matplotlib.pyplot as plt\n",
    "import seaborn as sns\n",
    "import math\n",
    "\n",
    "import warnings\n",
    "warnings.filterwarnings('ignore')\n",
    "warnings.warn('DelftStack')\n",
    "warnings.warn('Do not show this message')\n",
    "\n",
    "%matplotlib inline"
   ]
  },
  {
   "cell_type": "markdown",
   "id": "8b2c4fb1",
   "metadata": {},
   "source": [
    "# 2. PREPARING DATA"
   ]
  },
  {
   "cell_type": "code",
   "execution_count": 2,
   "id": "11f65962",
   "metadata": {
    "scrolled": true
   },
   "outputs": [
    {
     "data": {
      "text/html": [
       "<div>\n",
       "<style scoped>\n",
       "    .dataframe tbody tr th:only-of-type {\n",
       "        vertical-align: middle;\n",
       "    }\n",
       "\n",
       "    .dataframe tbody tr th {\n",
       "        vertical-align: top;\n",
       "    }\n",
       "\n",
       "    .dataframe thead th {\n",
       "        text-align: right;\n",
       "    }\n",
       "</style>\n",
       "<table border=\"1\" class=\"dataframe\">\n",
       "  <thead>\n",
       "    <tr style=\"text-align: right;\">\n",
       "      <th></th>\n",
       "      <th>user_id</th>\n",
       "      <th>timestamp</th>\n",
       "      <th>team</th>\n",
       "      <th>landing_page</th>\n",
       "      <th>converted</th>\n",
       "      <th>year</th>\n",
       "      <th>month</th>\n",
       "      <th>day</th>\n",
       "      <th>week</th>\n",
       "      <th>weekday</th>\n",
       "    </tr>\n",
       "  </thead>\n",
       "  <tbody>\n",
       "    <tr>\n",
       "      <th>0</th>\n",
       "      <td>847050</td>\n",
       "      <td>2017-01-21 02:17:34</td>\n",
       "      <td>treatment</td>\n",
       "      <td>new_page</td>\n",
       "      <td>0</td>\n",
       "      <td>2017</td>\n",
       "      <td>1</td>\n",
       "      <td>21</td>\n",
       "      <td>3</td>\n",
       "      <td>7</td>\n",
       "    </tr>\n",
       "    <tr>\n",
       "      <th>1</th>\n",
       "      <td>743950</td>\n",
       "      <td>2017-01-17 13:20:30</td>\n",
       "      <td>control</td>\n",
       "      <td>old_page</td>\n",
       "      <td>0</td>\n",
       "      <td>2017</td>\n",
       "      <td>1</td>\n",
       "      <td>17</td>\n",
       "      <td>3</td>\n",
       "      <td>3</td>\n",
       "    </tr>\n",
       "    <tr>\n",
       "      <th>2</th>\n",
       "      <td>850772</td>\n",
       "      <td>2017-01-08 01:15:08</td>\n",
       "      <td>treatment</td>\n",
       "      <td>new_page</td>\n",
       "      <td>0</td>\n",
       "      <td>2017</td>\n",
       "      <td>1</td>\n",
       "      <td>8</td>\n",
       "      <td>2</td>\n",
       "      <td>1</td>\n",
       "    </tr>\n",
       "    <tr>\n",
       "      <th>3</th>\n",
       "      <td>685456</td>\n",
       "      <td>2017-01-21 10:07:05</td>\n",
       "      <td>treatment</td>\n",
       "      <td>new_page</td>\n",
       "      <td>0</td>\n",
       "      <td>2017</td>\n",
       "      <td>1</td>\n",
       "      <td>21</td>\n",
       "      <td>3</td>\n",
       "      <td>7</td>\n",
       "    </tr>\n",
       "    <tr>\n",
       "      <th>4</th>\n",
       "      <td>697362</td>\n",
       "      <td>2017-01-18 20:37:55</td>\n",
       "      <td>control</td>\n",
       "      <td>old_page</td>\n",
       "      <td>1</td>\n",
       "      <td>2017</td>\n",
       "      <td>1</td>\n",
       "      <td>18</td>\n",
       "      <td>3</td>\n",
       "      <td>4</td>\n",
       "    </tr>\n",
       "    <tr>\n",
       "      <th>5</th>\n",
       "      <td>697942</td>\n",
       "      <td>2017-01-17 20:38:35</td>\n",
       "      <td>treatment</td>\n",
       "      <td>new_page</td>\n",
       "      <td>0</td>\n",
       "      <td>2017</td>\n",
       "      <td>1</td>\n",
       "      <td>17</td>\n",
       "      <td>3</td>\n",
       "      <td>3</td>\n",
       "    </tr>\n",
       "    <tr>\n",
       "      <th>6</th>\n",
       "      <td>822190</td>\n",
       "      <td>2017-01-06 09:16:02</td>\n",
       "      <td>control</td>\n",
       "      <td>old_page</td>\n",
       "      <td>0</td>\n",
       "      <td>2017</td>\n",
       "      <td>1</td>\n",
       "      <td>6</td>\n",
       "      <td>1</td>\n",
       "      <td>6</td>\n",
       "    </tr>\n",
       "    <tr>\n",
       "      <th>7</th>\n",
       "      <td>796364</td>\n",
       "      <td>2017-01-23 21:53:38</td>\n",
       "      <td>treatment</td>\n",
       "      <td>new_page</td>\n",
       "      <td>0</td>\n",
       "      <td>2017</td>\n",
       "      <td>1</td>\n",
       "      <td>23</td>\n",
       "      <td>4</td>\n",
       "      <td>2</td>\n",
       "    </tr>\n",
       "    <tr>\n",
       "      <th>8</th>\n",
       "      <td>897719</td>\n",
       "      <td>2017-01-06 06:44:26</td>\n",
       "      <td>control</td>\n",
       "      <td>old_page</td>\n",
       "      <td>0</td>\n",
       "      <td>2017</td>\n",
       "      <td>1</td>\n",
       "      <td>6</td>\n",
       "      <td>1</td>\n",
       "      <td>6</td>\n",
       "    </tr>\n",
       "    <tr>\n",
       "      <th>9</th>\n",
       "      <td>878065</td>\n",
       "      <td>2017-01-05 03:13:19</td>\n",
       "      <td>treatment</td>\n",
       "      <td>new_page</td>\n",
       "      <td>0</td>\n",
       "      <td>2017</td>\n",
       "      <td>1</td>\n",
       "      <td>5</td>\n",
       "      <td>1</td>\n",
       "      <td>5</td>\n",
       "    </tr>\n",
       "  </tbody>\n",
       "</table>\n",
       "</div>"
      ],
      "text/plain": [
       "   user_id            timestamp       team landing_page  converted  year  \\\n",
       "0   847050  2017-01-21 02:17:34  treatment     new_page          0  2017   \n",
       "1   743950  2017-01-17 13:20:30    control     old_page          0  2017   \n",
       "2   850772  2017-01-08 01:15:08  treatment     new_page          0  2017   \n",
       "3   685456  2017-01-21 10:07:05  treatment     new_page          0  2017   \n",
       "4   697362  2017-01-18 20:37:55    control     old_page          1  2017   \n",
       "5   697942  2017-01-17 20:38:35  treatment     new_page          0  2017   \n",
       "6   822190  2017-01-06 09:16:02    control     old_page          0  2017   \n",
       "7   796364  2017-01-23 21:53:38  treatment     new_page          0  2017   \n",
       "8   897719  2017-01-06 06:44:26    control     old_page          0  2017   \n",
       "9   878065  2017-01-05 03:13:19  treatment     new_page          0  2017   \n",
       "\n",
       "   month  day  week  weekday  \n",
       "0      1   21     3        7  \n",
       "1      1   17     3        3  \n",
       "2      1    8     2        1  \n",
       "3      1   21     3        7  \n",
       "4      1   18     3        4  \n",
       "5      1   17     3        3  \n",
       "6      1    6     1        6  \n",
       "7      1   23     4        2  \n",
       "8      1    6     1        6  \n",
       "9      1    5     1        5  "
      ]
     },
     "execution_count": 2,
     "metadata": {},
     "output_type": "execute_result"
    }
   ],
   "source": [
    "#import data\n",
    "data = pd.read_csv('ab_test.csv')\n",
    "df=data.copy()\n",
    "df.head(10)"
   ]
  },
  {
   "cell_type": "code",
   "execution_count": 3,
   "id": "3d87c1f5",
   "metadata": {},
   "outputs": [
    {
     "name": "stdout",
     "output_type": "stream",
     "text": [
      "<class 'pandas.core.frame.DataFrame'>\n",
      "RangeIndex: 294478 entries, 0 to 294477\n",
      "Data columns (total 10 columns):\n",
      " #   Column        Non-Null Count   Dtype \n",
      "---  ------        --------------   ----- \n",
      " 0   user_id       294478 non-null  int64 \n",
      " 1   timestamp     294478 non-null  object\n",
      " 2   team          294478 non-null  object\n",
      " 3   landing_page  294478 non-null  object\n",
      " 4   converted     294478 non-null  int64 \n",
      " 5   year          294478 non-null  int64 \n",
      " 6   month         294478 non-null  int64 \n",
      " 7   day           294478 non-null  int64 \n",
      " 8   week          294478 non-null  int64 \n",
      " 9   weekday       294478 non-null  int64 \n",
      "dtypes: int64(7), object(3)\n",
      "memory usage: 22.5+ MB\n"
     ]
    }
   ],
   "source": [
    "df.info()"
   ]
  },
  {
   "cell_type": "markdown",
   "id": "58c32917",
   "metadata": {},
   "source": [
    "There are 10 features and 294,478 entries\n",
    "- user_id: contains user ids\n",
    "- timestamp, year, month, day, week, weekday: is about when a session was\n",
    "- team: contains 2 variables: control and treatment\n",
    "- landing_page: is about what version of a site a user saw\n",
    "- converted: says us about user's behavior: if a user made a purchase (1) or not (0)"
   ]
  },
  {
   "cell_type": "code",
   "execution_count": 4,
   "id": "9b6fa709",
   "metadata": {},
   "outputs": [
    {
     "data": {
      "text/plain": [
       "(array(['treatment', 'control'], dtype=object),\n",
       " array(['new_page', 'old_page'], dtype=object),\n",
       " array([2017], dtype=int64),\n",
       " array([1], dtype=int64),\n",
       " 24,\n",
       " 2,\n",
       " array([3, 2, 1, 4], dtype=int64))"
      ]
     },
     "execution_count": 4,
     "metadata": {},
     "output_type": "execute_result"
    }
   ],
   "source": [
    "team = df.team.unique()\n",
    "page = df.landing_page.unique()\n",
    "year = df.year.unique()\n",
    "month = df.month.unique()\n",
    "day_max = df.day.max()\n",
    "day_min = df.day.min()\n",
    "week = df.week.unique()\n",
    "team, page, year, month, day_max, day_min, week"
   ]
  },
  {
   "cell_type": "markdown",
   "id": "875715ce",
   "metadata": {},
   "source": [
    "The experiment launched in Jan, 2017, during 4 weeks, 23 days, from 2nd to 24th.\n",
    "There were 2 groups treatment and control, experience old and new page to check the percentage of purchase to consideer shouldwe run new version"
   ]
  },
  {
   "cell_type": "code",
   "execution_count": 5,
   "id": "34aa04bc",
   "metadata": {
    "scrolled": false
   },
   "outputs": [
    {
     "data": {
      "text/html": [
       "<div>\n",
       "<style scoped>\n",
       "    .dataframe tbody tr th:only-of-type {\n",
       "        vertical-align: middle;\n",
       "    }\n",
       "\n",
       "    .dataframe tbody tr th {\n",
       "        vertical-align: top;\n",
       "    }\n",
       "\n",
       "    .dataframe thead th {\n",
       "        text-align: right;\n",
       "    }\n",
       "</style>\n",
       "<table border=\"1\" class=\"dataframe\">\n",
       "  <thead>\n",
       "    <tr style=\"text-align: right;\">\n",
       "      <th>converted</th>\n",
       "      <th>0</th>\n",
       "      <th>1</th>\n",
       "    </tr>\n",
       "    <tr>\n",
       "      <th>team</th>\n",
       "      <th></th>\n",
       "      <th></th>\n",
       "    </tr>\n",
       "  </thead>\n",
       "  <tbody>\n",
       "    <tr>\n",
       "      <th>control</th>\n",
       "      <td>129479</td>\n",
       "      <td>17723</td>\n",
       "    </tr>\n",
       "    <tr>\n",
       "      <th>treatment</th>\n",
       "      <td>129762</td>\n",
       "      <td>17514</td>\n",
       "    </tr>\n",
       "  </tbody>\n",
       "</table>\n",
       "</div>"
      ],
      "text/plain": [
       "converted       0      1\n",
       "team                    \n",
       "control    129479  17723\n",
       "treatment  129762  17514"
      ]
     },
     "execution_count": 5,
     "metadata": {},
     "output_type": "execute_result"
    }
   ],
   "source": [
    "pd.crosstab(df.team, df.converted)"
   ]
  },
  {
   "cell_type": "code",
   "execution_count": 6,
   "id": "f5d50f5a",
   "metadata": {
    "scrolled": true
   },
   "outputs": [
    {
     "name": "stdout",
     "output_type": "stream",
     "text": [
      "Total control group sum_Ncont: 147202\n",
      "Total treatment group sum_Nexp: 147276\n",
      "Number of purchase in control group sum_Xcont: 17723\n",
      "Number of purchase in treatment group sum_Xexp: 17514\n"
     ]
    }
   ],
   "source": [
    "sum_Ncont = len(df.query('team == \"control\"'))\n",
    "sum_Nexp = len(df.query('team == \"treatment\"'))\n",
    "sum_Xcont= 17723\n",
    "sum_Xexp= 17514\n",
    "print('Total control group sum_Ncont: {0:d}\\nTotal treatment group sum_Nexp: {1:d}\\nNumber of purchase in control group sum_Xcont: {2:d}\\nNumber of purchase in treatment group sum_Xexp: {3:d}'.format(sum_Ncont, sum_Nexp, sum_Xcont, sum_Xexp))"
   ]
  },
  {
   "cell_type": "markdown",
   "id": "f178dc78",
   "metadata": {},
   "source": [
    "# 3. HYPOTHESIS"
   ]
  },
  {
   "cell_type": "markdown",
   "id": "7911c678",
   "metadata": {},
   "source": [
    "Hypothesis:\n",
    "H0: pexp - pcont = 0 -> no launch new version\n",
    "H1: pexp - pcont > 0 -> lanunch new version"
   ]
  },
  {
   "cell_type": "markdown",
   "id": "4f08ecb9",
   "metadata": {},
   "source": [
    "# 4. DATA ANALYSIS"
   ]
  },
  {
   "cell_type": "markdown",
   "id": "907000c3",
   "metadata": {},
   "source": [
    "## 4.1. Sanity check"
   ]
  },
  {
   "cell_type": "code",
   "execution_count": 7,
   "id": "daf35929",
   "metadata": {
    "scrolled": false
   },
   "outputs": [
    {
     "data": {
      "text/html": [
       "<div>\n",
       "<style scoped>\n",
       "    .dataframe tbody tr th:only-of-type {\n",
       "        vertical-align: middle;\n",
       "    }\n",
       "\n",
       "    .dataframe tbody tr th {\n",
       "        vertical-align: top;\n",
       "    }\n",
       "\n",
       "    .dataframe thead th {\n",
       "        text-align: right;\n",
       "    }\n",
       "</style>\n",
       "<table border=\"1\" class=\"dataframe\">\n",
       "  <thead>\n",
       "    <tr style=\"text-align: right;\">\n",
       "      <th></th>\n",
       "      <th>week</th>\n",
       "      <th>weekday</th>\n",
       "      <th>day</th>\n",
       "      <th>Xcont</th>\n",
       "      <th>Ncont</th>\n",
       "      <th>Xexp</th>\n",
       "      <th>Nexp</th>\n",
       "    </tr>\n",
       "  </thead>\n",
       "  <tbody>\n",
       "    <tr>\n",
       "      <th>2</th>\n",
       "      <td>1</td>\n",
       "      <td>2</td>\n",
       "      <td>2</td>\n",
       "      <td>362</td>\n",
       "      <td>2894</td>\n",
       "      <td>348</td>\n",
       "      <td>2889</td>\n",
       "    </tr>\n",
       "    <tr>\n",
       "      <th>19</th>\n",
       "      <td>1</td>\n",
       "      <td>3</td>\n",
       "      <td>3</td>\n",
       "      <td>760</td>\n",
       "      <td>6684</td>\n",
       "      <td>762</td>\n",
       "      <td>6710</td>\n",
       "    </tr>\n",
       "    <tr>\n",
       "      <th>0</th>\n",
       "      <td>1</td>\n",
       "      <td>4</td>\n",
       "      <td>4</td>\n",
       "      <td>810</td>\n",
       "      <td>6655</td>\n",
       "      <td>773</td>\n",
       "      <td>6629</td>\n",
       "    </tr>\n",
       "    <tr>\n",
       "      <th>10</th>\n",
       "      <td>1</td>\n",
       "      <td>5</td>\n",
       "      <td>5</td>\n",
       "      <td>801</td>\n",
       "      <td>6538</td>\n",
       "      <td>758</td>\n",
       "      <td>6586</td>\n",
       "    </tr>\n",
       "    <tr>\n",
       "      <th>7</th>\n",
       "      <td>1</td>\n",
       "      <td>6</td>\n",
       "      <td>6</td>\n",
       "      <td>778</td>\n",
       "      <td>6684</td>\n",
       "      <td>848</td>\n",
       "      <td>6844</td>\n",
       "    </tr>\n",
       "    <tr>\n",
       "      <th>1</th>\n",
       "      <td>1</td>\n",
       "      <td>7</td>\n",
       "      <td>7</td>\n",
       "      <td>805</td>\n",
       "      <td>6678</td>\n",
       "      <td>776</td>\n",
       "      <td>6703</td>\n",
       "    </tr>\n",
       "    <tr>\n",
       "      <th>15</th>\n",
       "      <td>2</td>\n",
       "      <td>1</td>\n",
       "      <td>8</td>\n",
       "      <td>805</td>\n",
       "      <td>6769</td>\n",
       "      <td>821</td>\n",
       "      <td>6795</td>\n",
       "    </tr>\n",
       "    <tr>\n",
       "      <th>14</th>\n",
       "      <td>2</td>\n",
       "      <td>2</td>\n",
       "      <td>9</td>\n",
       "      <td>806</td>\n",
       "      <td>6725</td>\n",
       "      <td>794</td>\n",
       "      <td>6714</td>\n",
       "    </tr>\n",
       "    <tr>\n",
       "      <th>3</th>\n",
       "      <td>2</td>\n",
       "      <td>3</td>\n",
       "      <td>10</td>\n",
       "      <td>763</td>\n",
       "      <td>6745</td>\n",
       "      <td>858</td>\n",
       "      <td>6778</td>\n",
       "    </tr>\n",
       "    <tr>\n",
       "      <th>11</th>\n",
       "      <td>2</td>\n",
       "      <td>4</td>\n",
       "      <td>11</td>\n",
       "      <td>808</td>\n",
       "      <td>6787</td>\n",
       "      <td>785</td>\n",
       "      <td>6766</td>\n",
       "    </tr>\n",
       "    <tr>\n",
       "      <th>6</th>\n",
       "      <td>2</td>\n",
       "      <td>5</td>\n",
       "      <td>12</td>\n",
       "      <td>809</td>\n",
       "      <td>6615</td>\n",
       "      <td>820</td>\n",
       "      <td>6707</td>\n",
       "    </tr>\n",
       "    <tr>\n",
       "      <th>5</th>\n",
       "      <td>2</td>\n",
       "      <td>6</td>\n",
       "      <td>13</td>\n",
       "      <td>779</td>\n",
       "      <td>6649</td>\n",
       "      <td>734</td>\n",
       "      <td>6589</td>\n",
       "    </tr>\n",
       "    <tr>\n",
       "      <th>21</th>\n",
       "      <td>2</td>\n",
       "      <td>7</td>\n",
       "      <td>14</td>\n",
       "      <td>842</td>\n",
       "      <td>6635</td>\n",
       "      <td>799</td>\n",
       "      <td>6694</td>\n",
       "    </tr>\n",
       "    <tr>\n",
       "      <th>20</th>\n",
       "      <td>3</td>\n",
       "      <td>1</td>\n",
       "      <td>15</td>\n",
       "      <td>823</td>\n",
       "      <td>6809</td>\n",
       "      <td>757</td>\n",
       "      <td>6640</td>\n",
       "    </tr>\n",
       "    <tr>\n",
       "      <th>17</th>\n",
       "      <td>3</td>\n",
       "      <td>2</td>\n",
       "      <td>16</td>\n",
       "      <td>816</td>\n",
       "      <td>6683</td>\n",
       "      <td>795</td>\n",
       "      <td>6644</td>\n",
       "    </tr>\n",
       "    <tr>\n",
       "      <th>16</th>\n",
       "      <td>3</td>\n",
       "      <td>3</td>\n",
       "      <td>17</td>\n",
       "      <td>818</td>\n",
       "      <td>6691</td>\n",
       "      <td>844</td>\n",
       "      <td>6631</td>\n",
       "    </tr>\n",
       "    <tr>\n",
       "      <th>9</th>\n",
       "      <td>3</td>\n",
       "      <td>4</td>\n",
       "      <td>18</td>\n",
       "      <td>820</td>\n",
       "      <td>6578</td>\n",
       "      <td>835</td>\n",
       "      <td>6707</td>\n",
       "    </tr>\n",
       "    <tr>\n",
       "      <th>18</th>\n",
       "      <td>3</td>\n",
       "      <td>5</td>\n",
       "      <td>19</td>\n",
       "      <td>795</td>\n",
       "      <td>6665</td>\n",
       "      <td>780</td>\n",
       "      <td>6628</td>\n",
       "    </tr>\n",
       "    <tr>\n",
       "      <th>12</th>\n",
       "      <td>3</td>\n",
       "      <td>6</td>\n",
       "      <td>20</td>\n",
       "      <td>763</td>\n",
       "      <td>6626</td>\n",
       "      <td>797</td>\n",
       "      <td>6767</td>\n",
       "    </tr>\n",
       "    <tr>\n",
       "      <th>22</th>\n",
       "      <td>3</td>\n",
       "      <td>7</td>\n",
       "      <td>21</td>\n",
       "      <td>859</td>\n",
       "      <td>6823</td>\n",
       "      <td>772</td>\n",
       "      <td>6652</td>\n",
       "    </tr>\n",
       "    <tr>\n",
       "      <th>13</th>\n",
       "      <td>4</td>\n",
       "      <td>1</td>\n",
       "      <td>22</td>\n",
       "      <td>796</td>\n",
       "      <td>6675</td>\n",
       "      <td>795</td>\n",
       "      <td>6748</td>\n",
       "    </tr>\n",
       "    <tr>\n",
       "      <th>8</th>\n",
       "      <td>4</td>\n",
       "      <td>2</td>\n",
       "      <td>23</td>\n",
       "      <td>854</td>\n",
       "      <td>6783</td>\n",
       "      <td>814</td>\n",
       "      <td>6728</td>\n",
       "    </tr>\n",
       "    <tr>\n",
       "      <th>4</th>\n",
       "      <td>4</td>\n",
       "      <td>3</td>\n",
       "      <td>24</td>\n",
       "      <td>451</td>\n",
       "      <td>3811</td>\n",
       "      <td>449</td>\n",
       "      <td>3727</td>\n",
       "    </tr>\n",
       "  </tbody>\n",
       "</table>\n",
       "</div>"
      ],
      "text/plain": [
       "    week  weekday  day  Xcont  Ncont  Xexp  Nexp\n",
       "2      1        2    2    362   2894   348  2889\n",
       "19     1        3    3    760   6684   762  6710\n",
       "0      1        4    4    810   6655   773  6629\n",
       "10     1        5    5    801   6538   758  6586\n",
       "7      1        6    6    778   6684   848  6844\n",
       "1      1        7    7    805   6678   776  6703\n",
       "15     2        1    8    805   6769   821  6795\n",
       "14     2        2    9    806   6725   794  6714\n",
       "3      2        3   10    763   6745   858  6778\n",
       "11     2        4   11    808   6787   785  6766\n",
       "6      2        5   12    809   6615   820  6707\n",
       "5      2        6   13    779   6649   734  6589\n",
       "21     2        7   14    842   6635   799  6694\n",
       "20     3        1   15    823   6809   757  6640\n",
       "17     3        2   16    816   6683   795  6644\n",
       "16     3        3   17    818   6691   844  6631\n",
       "9      3        4   18    820   6578   835  6707\n",
       "18     3        5   19    795   6665   780  6628\n",
       "12     3        6   20    763   6626   797  6767\n",
       "22     3        7   21    859   6823   772  6652\n",
       "13     4        1   22    796   6675   795  6748\n",
       "8      4        2   23    854   6783   814  6728\n",
       "4      4        3   24    451   3811   449  3727"
      ]
     },
     "execution_count": 7,
     "metadata": {},
     "output_type": "execute_result"
    }
   ],
   "source": [
    "# import sanity_check file (by week, weekday and day)\n",
    "sanity_check= pd.read_csv('sanity_check.csv')\n",
    "sanity_check.sort_values(by= 'day')"
   ]
  },
  {
   "cell_type": "markdown",
   "id": "8d380bed",
   "metadata": {},
   "source": [
    "There are 2 methods to check whether the experiment is correct: p value and probability per day"
   ]
  },
  {
   "cell_type": "markdown",
   "id": "0120f749",
   "metadata": {},
   "source": [
    "### 4.1.1. P value method"
   ]
  },
  {
   "cell_type": "code",
   "execution_count": 8,
   "id": "0a31d00e",
   "metadata": {
    "scrolled": true
   },
   "outputs": [
    {
     "name": "stdout",
     "output_type": "stream",
     "text": [
      "alpha: 0.050000\n",
      "probability p: 0.119659\n",
      "SD: 0.000598\n",
      "m: 0.001172\n",
      "confidence interval: (0.118487,0.120831)\n"
     ]
    }
   ],
   "source": [
    "# Check p value\n",
    "# use confidence interval 1-alpha= 95%,\n",
    "alpha= 0.05\n",
    "# probability\n",
    "p=(sum_Xexp+sum_Xcont)/(sum_Nexp+sum_Ncont)\n",
    "# Compute standard deviation with p\n",
    "SD=math.sqrt(p*(1-p)/(sum_Ncont+sum_Nexp))\n",
    "# Margin of error: z-score=1.96\n",
    "z=1.96\n",
    "m=SD*1.96\n",
    "# Cconfidence interval around p\n",
    "upper=p+m\n",
    "lower=p-m\n",
    "# Check whether obsered factor within interval\n",
    "pexp= sum_Xexp/(sum_Nexp+sum_Ncont)\n",
    "print('alpha: {0:,f}\\nprobability p: {1:,f}\\nSD: {2:,f}\\nm: {3:,f}\\nconfidence interval: ({4:,f},{5:,f})'.format(alpha, p, SD, m, lower, upper))"
   ]
  },
  {
   "cell_type": "markdown",
   "id": "9c2a9c2e",
   "metadata": {},
   "source": [
    "We can see that p within interval, so the experiment is correct"
   ]
  },
  {
   "cell_type": "markdown",
   "id": "6c8bbd30",
   "metadata": {},
   "source": [
    "### 4.1.2. Probability per day"
   ]
  },
  {
   "cell_type": "code",
   "execution_count": 9,
   "id": "c63f1ef6",
   "metadata": {
    "scrolled": true
   },
   "outputs": [
    {
     "data": {
      "text/plain": [
       "0     0.500979\n",
       "1     0.499066\n",
       "2     0.500432\n",
       "3     0.498780\n",
       "4     0.505572\n",
       "5     0.502266\n",
       "6     0.496547\n",
       "7     0.494086\n",
       "8     0.502035\n",
       "9     0.495145\n",
       "10    0.498171\n",
       "11    0.500775\n",
       "12    0.494736\n",
       "13    0.497281\n",
       "14    0.500409\n",
       "15    0.499042\n",
       "16    0.502252\n",
       "17    0.501463\n",
       "18    0.501392\n",
       "19    0.499029\n",
       "20    0.506283\n",
       "21    0.497787\n",
       "22    0.506345\n",
       "dtype: float64"
      ]
     },
     "execution_count": 9,
     "metadata": {},
     "output_type": "execute_result"
    }
   ],
   "source": [
    "# check probability control group per day\n",
    "check_pcont=sanity_check[['day', 'Ncont', 'Nexp']].copy()\n",
    "pcont=check_pcont.Ncont/(check_pcont.Ncont+check_pcont.Nexp)\n",
    "pcont"
   ]
  },
  {
   "cell_type": "markdown",
   "id": "c70a8dfb",
   "metadata": {},
   "source": [
    "I found that p is run smoothly, so there is no wrong in this experiment"
   ]
  },
  {
   "cell_type": "markdown",
   "id": "55027072",
   "metadata": {},
   "source": [
    "## 4.2. Data analysis"
   ]
  },
  {
   "cell_type": "markdown",
   "id": "6519a4d5",
   "metadata": {},
   "source": [
    "After passing sanity check, I process to analyze to compare two groups."
   ]
  },
  {
   "cell_type": "code",
   "execution_count": 10,
   "id": "7bf33dfe",
   "metadata": {
    "scrolled": true
   },
   "outputs": [
    {
     "name": "stdout",
     "output_type": "stream",
     "text": [
      "d: -0.001480\n",
      "confidence interval: (-0.003824,0.000865)\n"
     ]
    }
   ],
   "source": [
    "alpha= 0.05 #significance level 1-alpha ~ 95%\n",
    "beta= 0.2 #statistical power 1-beta ~ 80%\n",
    "z=1.96\n",
    "p\n",
    "d= sum_Xexp/sum_Nexp - sum_Xcont/sum_Ncont\n",
    "SE=math.sqrt(p*(1-p)*(1/sum_Ncont + 1/sum_Nexp))\n",
    "m=z*SE\n",
    "upper= d+m\n",
    "lower= d-m\n",
    "print('d: {2:,f}\\nconfidence interval: ({0:,f},{1:,f})'.format(lower, upper,d))"
   ]
  },
  {
   "cell_type": "markdown",
   "id": "42bb5229",
   "metadata": {},
   "source": [
    "I found that d is within confidence interval, so Ho would be accepted, I recommended that we should not launched the new version"
   ]
  }
 ],
 "metadata": {
  "kernelspec": {
   "display_name": "Python 3 (ipykernel)",
   "language": "python",
   "name": "python3"
  },
  "language_info": {
   "codemirror_mode": {
    "name": "ipython",
    "version": 3
   },
   "file_extension": ".py",
   "mimetype": "text/x-python",
   "name": "python",
   "nbconvert_exporter": "python",
   "pygments_lexer": "ipython3",
   "version": "3.9.12"
  }
 },
 "nbformat": 4,
 "nbformat_minor": 5
}
